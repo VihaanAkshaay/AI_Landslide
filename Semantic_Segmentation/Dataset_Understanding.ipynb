{
 "cells": [
  {
   "cell_type": "markdown",
   "id": "a4042e46",
   "metadata": {},
   "source": [
    "# Landslide4Sense data inspection"
   ]
  },
  {
   "cell_type": "code",
   "execution_count": 2,
   "id": "ff4d1b6f",
   "metadata": {},
   "outputs": [],
   "source": [
    " # Imports\n",
    "\n",
    "import os\n",
    "import numpy as np\n",
    "\n",
    "import os\n",
    "import h5py\n",
    "import torch\n",
    "from torch.utils.data import Dataset,DataLoader\n",
    "import utils\n",
    "import models\n",
    "import evalmetrics\n",
    "import torch.nn as nn\n"
   ]
  },
  {
   "cell_type": "code",
   "execution_count": 7,
   "id": "17def3bb",
   "metadata": {},
   "outputs": [
    {
     "name": "stdout",
     "output_type": "stream",
     "text": [
      "<KeysViewHDF5 ['img']>\n",
      "<KeysViewHDF5 ['mask']>\n",
      "torch.Size([128, 128, 14])\n"
     ]
    }
   ],
   "source": [
    "# Visualising the Dataset\n",
    "\n",
    "# Reading folder of .h5 files images and labels\n",
    "\n",
    "# Path to the folder containing the .h5 files\n",
    "path = '/Users/vihaan/Workspace/Local_AI_Earth/Semantic_Segmentation/L4S_Data/TrainData/'\n",
    "\n",
    "# List of .h5 images\n",
    "image_directory_path = path + 'img' \n",
    "\n",
    "# List of .h5 labels\n",
    "labels_directory_path = path + 'mask'\n",
    "\n",
    "# Loading one of the files from image_directory_path h5 files\n",
    "image_file = h5py.File(image_directory_path + '/image_1.h5', 'r')\n",
    "\n",
    "# Loading one of the files from labels_directory_path h5 files\n",
    "labels_file = h5py.File(labels_directory_path + '/mask_1.h5', 'r')\n",
    "\n",
    "# Printing the keys of the image_file\n",
    "print(image_file.keys())\n",
    "\n",
    "# Printing the keys of the labels_file\n",
    "print(labels_file.keys())\n",
    "\n",
    "# Loading as torch tensor\n",
    "image = torch.from_numpy(image_file['img'][()])\n",
    "\n",
    "print(image.shape)\n"
   ]
  },
  {
   "cell_type": "code",
   "execution_count": null,
   "id": "c76b6713",
   "metadata": {},
   "outputs": [],
   "source": [
    "# Reading a single image"
   ]
  },
  {
   "cell_type": "code",
   "execution_count": 3,
   "id": "12d4600d",
   "metadata": {},
   "outputs": [],
   "source": [
    "# Splitting the train folder into train, validation and test folders\n",
    "\n",
    "full_dataset = utils.CustomDataset_L4S_Split_Train_Test_Val(img_dir=path + 'img', mask_dir=path + 'mask')\n",
    "\n",
    "train_size = int(0.8 * len(full_dataset))\n",
    "val_size = int(0.1 * len(full_dataset))\n",
    "test_size = len(full_dataset) - train_size - val_size\n",
    "\n",
    "train_dataset, val_dataset, test_dataset = torch.utils.data.random_split(full_dataset, [train_size, val_size, test_size])\n",
    "\n",
    "batch_size = 16\n",
    "train_loader = torch.utils.data.DataLoader(train_dataset, batch_size=batch_size, shuffle=True)\n",
    "val_loader = torch.utils.data.DataLoader(val_dataset, batch_size=batch_size, shuffle=False)\n",
    "test_loader = torch.utils.data.DataLoader(test_dataset, batch_size=batch_size, shuffle=False)\n"
   ]
  },
  {
   "cell_type": "code",
   "execution_count": 4,
   "id": "230bd7db",
   "metadata": {},
   "outputs": [
    {
     "name": "stdout",
     "output_type": "stream",
     "text": [
      "mps\n"
     ]
    }
   ],
   "source": [
    "torch.cuda.empty_cache()\n",
    "\n",
    "# Making mpu as device in torch\n",
    "device = torch.device(\"mps\" if torch.backends.mps.is_available() else \"cpu\")\n",
    "device = torch.device(\"cuda:0\" if torch.cuda.is_available() else \"cpu\")\n",
    "print(device)\n",
    "#device = torch.device(\"cpu\")"
   ]
  },
  {
   "cell_type": "code",
   "execution_count": 3,
   "id": "b5ae6572",
   "metadata": {},
   "outputs": [],
   "source": [
    "model = models.EdgeU1_Net(img_ch=14,output_ch=1)"
   ]
  },
  {
   "cell_type": "code",
   "execution_count": 4,
   "id": "81212fda",
   "metadata": {},
   "outputs": [
    {
     "name": "stdout",
     "output_type": "stream",
     "text": [
      "EdgeU1_Net\n"
     ]
    }
   ],
   "source": [
    "print(model.__class__.__name__)"
   ]
  },
  {
   "cell_type": "code",
   "execution_count": 6,
   "id": "12d82f59",
   "metadata": {},
   "outputs": [
    {
     "name": "stdout",
     "output_type": "stream",
     "text": [
      "torch.Size([16, 14, 128, 128])\n",
      "torch.Size([16, 14, 128, 128])\n",
      "torch.Size([16, 14, 128, 128])\n",
      "torch.Size([16, 14, 128, 128])\n",
      "torch.Size([16, 14, 128, 128])\n",
      "torch.Size([16, 14, 128, 128])\n",
      "torch.Size([16, 14, 128, 128])\n",
      "torch.Size([16, 14, 128, 128])\n",
      "torch.Size([16, 14, 128, 128])\n",
      "torch.Size([16, 14, 128, 128])\n",
      "torch.Size([16, 14, 128, 128])\n",
      "torch.Size([16, 14, 128, 128])\n",
      "torch.Size([16, 14, 128, 128])\n"
     ]
    },
    {
     "ename": "KeyboardInterrupt",
     "evalue": "",
     "output_type": "error",
     "traceback": [
      "\u001b[0;31m---------------------------------------------------------------------------\u001b[0m",
      "\u001b[0;31mKeyboardInterrupt\u001b[0m                         Traceback (most recent call last)",
      "\u001b[1;32m/Users/vihaan/Workspace/Local_AI_Earth/Semantic_Segmentation/Dataset_Understanding.ipynb Cell 7\u001b[0m line \u001b[0;36m<cell line: 19>\u001b[0;34m()\u001b[0m\n\u001b[1;32m     <a href='vscode-notebook-cell:/Users/vihaan/Workspace/Local_AI_Earth/Semantic_Segmentation/Dataset_Understanding.ipynb#X11sZmlsZQ%3D%3D?line=38'>39</a>\u001b[0m loss \u001b[39m=\u001b[39m criterion(outputs, labels)\n\u001b[1;32m     <a href='vscode-notebook-cell:/Users/vihaan/Workspace/Local_AI_Earth/Semantic_Segmentation/Dataset_Understanding.ipynb#X11sZmlsZQ%3D%3D?line=40'>41</a>\u001b[0m \u001b[39m# Backward pass and update\u001b[39;00m\n\u001b[0;32m---> <a href='vscode-notebook-cell:/Users/vihaan/Workspace/Local_AI_Earth/Semantic_Segmentation/Dataset_Understanding.ipynb#X11sZmlsZQ%3D%3D?line=41'>42</a>\u001b[0m loss\u001b[39m.\u001b[39;49mbackward()\n\u001b[1;32m     <a href='vscode-notebook-cell:/Users/vihaan/Workspace/Local_AI_Earth/Semantic_Segmentation/Dataset_Understanding.ipynb#X11sZmlsZQ%3D%3D?line=42'>43</a>\u001b[0m optimizer\u001b[39m.\u001b[39mstep()\n\u001b[1;32m     <a href='vscode-notebook-cell:/Users/vihaan/Workspace/Local_AI_Earth/Semantic_Segmentation/Dataset_Understanding.ipynb#X11sZmlsZQ%3D%3D?line=44'>45</a>\u001b[0m \u001b[39m# Print statistics\u001b[39;00m\n",
      "File \u001b[0;32m~/miniforge3/envs/geek/lib/python3.9/site-packages/torch/_tensor.py:487\u001b[0m, in \u001b[0;36mTensor.backward\u001b[0;34m(self, gradient, retain_graph, create_graph, inputs)\u001b[0m\n\u001b[1;32m    477\u001b[0m \u001b[39mif\u001b[39;00m has_torch_function_unary(\u001b[39mself\u001b[39m):\n\u001b[1;32m    478\u001b[0m     \u001b[39mreturn\u001b[39;00m handle_torch_function(\n\u001b[1;32m    479\u001b[0m         Tensor\u001b[39m.\u001b[39mbackward,\n\u001b[1;32m    480\u001b[0m         (\u001b[39mself\u001b[39m,),\n\u001b[0;32m   (...)\u001b[0m\n\u001b[1;32m    485\u001b[0m         inputs\u001b[39m=\u001b[39minputs,\n\u001b[1;32m    486\u001b[0m     )\n\u001b[0;32m--> 487\u001b[0m torch\u001b[39m.\u001b[39;49mautograd\u001b[39m.\u001b[39;49mbackward(\n\u001b[1;32m    488\u001b[0m     \u001b[39mself\u001b[39;49m, gradient, retain_graph, create_graph, inputs\u001b[39m=\u001b[39;49minputs\n\u001b[1;32m    489\u001b[0m )\n",
      "File \u001b[0;32m~/miniforge3/envs/geek/lib/python3.9/site-packages/torch/autograd/__init__.py:200\u001b[0m, in \u001b[0;36mbackward\u001b[0;34m(tensors, grad_tensors, retain_graph, create_graph, grad_variables, inputs)\u001b[0m\n\u001b[1;32m    195\u001b[0m     retain_graph \u001b[39m=\u001b[39m create_graph\n\u001b[1;32m    197\u001b[0m \u001b[39m# The reason we repeat same the comment below is that\u001b[39;00m\n\u001b[1;32m    198\u001b[0m \u001b[39m# some Python versions print out the first line of a multi-line function\u001b[39;00m\n\u001b[1;32m    199\u001b[0m \u001b[39m# calls in the traceback and some print out the last line\u001b[39;00m\n\u001b[0;32m--> 200\u001b[0m Variable\u001b[39m.\u001b[39;49m_execution_engine\u001b[39m.\u001b[39;49mrun_backward(  \u001b[39m# Calls into the C++ engine to run the backward pass\u001b[39;49;00m\n\u001b[1;32m    201\u001b[0m     tensors, grad_tensors_, retain_graph, create_graph, inputs,\n\u001b[1;32m    202\u001b[0m     allow_unreachable\u001b[39m=\u001b[39;49m\u001b[39mTrue\u001b[39;49;00m, accumulate_grad\u001b[39m=\u001b[39;49m\u001b[39mTrue\u001b[39;49;00m)\n",
      "\u001b[0;31mKeyboardInterrupt\u001b[0m: "
     ]
    }
   ],
   "source": [
    "# Preparing the model for training\n",
    "\n",
    "# Defining  loss function and optimizer\n",
    "criterion = nn.BCEWithLogitsLoss()\n",
    "#criterion = nn.BCELoss()\n",
    "optimizer = torch.optim.Adam(model.parameters())\n",
    "#optimizer = torch.optim.SGD(model.parameters(), lr=0.001, momentum=0.9)\n",
    "num_epochs = 30\n",
    "\n",
    "######################## Training model on train dataset #####################################\n",
    "\n",
    "# Train the model\n",
    "model.to(device)\n",
    "\n",
    "#Tracking Losses\n",
    "losst_list = []\n",
    "lossv_list = []\n",
    "\n",
    "for epoch in range(num_epochs):\n",
    "    train_loss = 0.0\n",
    "    \n",
    "    #Train the model\n",
    "    model.train()\n",
    "    for i, (inputs, labels) in enumerate(train_loader):\n",
    "        \n",
    "        inputs = inputs.float()\n",
    "        inputs = inputs.to(device)\n",
    "        #print(inputs.shape)\n",
    "        labels = labels.to(device)\n",
    "        #print('labels are')\n",
    "        #print(labels.shape)\n",
    "\n",
    "        optimizer.zero_grad()\n",
    "\n",
    "        # Forward pass\n",
    "        outputs = model(inputs)\n",
    "        loss = criterion(outputs, labels)\n",
    "\n",
    "        # Backward pass and update\n",
    "        loss.backward()\n",
    "        optimizer.step()\n",
    "\n",
    "        # Print statistics\n",
    "        train_loss += loss.item()\n",
    "    avg_train_loss = train_loss / len(train_loader)\n",
    "    losst_list.append(avg_train_loss)\n",
    "            \n",
    "    #Validate the training process\n",
    "    model.eval()\n",
    "    val_loss = 0.0\n",
    "    with torch.no_grad():\n",
    "        for inputs, targets in val_loader:\n",
    "            inputs = inputs.float()\n",
    "            inputs = inputs.to(device)\n",
    "            targets = targets.to(device)\n",
    "            outputs = model(inputs)\n",
    "            loss = criterion(outputs, targets)\n",
    "            val_loss += loss.item()\n",
    "        avg_val_loss = val_loss / len(val_loader)\n",
    "    lossv_list.append(avg_val_loss)\n",
    "    \n",
    "    print(f\"Epoch [{epoch+1}/{num_epochs}], Train Loss: {avg_train_loss:.4f}, Val Loss: {avg_val_loss:.4f}\")"
   ]
  },
  {
   "cell_type": "code",
   "execution_count": null,
   "id": "22419bdd",
   "metadata": {},
   "outputs": [],
   "source": []
  }
 ],
 "metadata": {
  "kernelspec": {
   "display_name": "Python 3 (ipykernel)",
   "language": "python",
   "name": "python3"
  },
  "language_info": {
   "codemirror_mode": {
    "name": "ipython",
    "version": 3
   },
   "file_extension": ".py",
   "mimetype": "text/x-python",
   "name": "python",
   "nbconvert_exporter": "python",
   "pygments_lexer": "ipython3",
   "version": "3.9.16"
  }
 },
 "nbformat": 4,
 "nbformat_minor": 5
}
